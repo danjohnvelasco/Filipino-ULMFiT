{
  "nbformat": 4,
  "nbformat_minor": 0,
  "metadata": {
    "colab": {
      "name": "Filipino-ULMFiT.ipynb",
      "provenance": [],
      "collapsed_sections": [],
      "authorship_tag": "ABX9TyOJFy3varXFmJihsMaNhaIC",
      "include_colab_link": true
    },
    "kernelspec": {
      "name": "python3",
      "display_name": "Python 3"
    },
    "accelerator": "GPU"
  },
  "cells": [
    {
      "cell_type": "markdown",
      "metadata": {
        "id": "view-in-github",
        "colab_type": "text"
      },
      "source": [
        "<a href=\"https://colab.research.google.com/github/danjohnvelasco/Filipino-ULMFiT/blob/master/Filipino_ULMFiT.ipynb\" target=\"_parent\"><img src=\"https://colab.research.google.com/assets/colab-badge.svg\" alt=\"Open In Colab\"/></a>"
      ]
    },
    {
      "cell_type": "markdown",
      "metadata": {
        "id": "q0wRH746s7Ns"
      },
      "source": [
        "# Filipino ULMFiT\n",
        "This notebook shows the ULMFiT approach to Filipino text classification task on [Hate Speech Dataset](https://github.com/jcblaisecruz02/Filipino-Text-Benchmarks#datasets) using a pre-trained Filipino language model. To learn more about the ULMFiT approach check the [Docs](https://docs.fast.ai/tutorial.text) and [Paper](https://arxiv.org/abs/1801.06146).\n",
        "\n",
        "If you wish to apply this on another text classification dataset, you may do so.\n",
        "It's just a matter of replacing the dataset in the code.\n",
        "\n",
        "Originally posted in this [repository](https://github.com/danjohnvelasco/Filipino-ULMFiT)."
      ]
    },
    {
      "cell_type": "code",
      "metadata": {
        "id": "fvh9xdr2sak0"
      },
      "source": [
        "# Install fastai v2\n",
        "# uncomment if your environment doesn't use fastai >= v2.\n",
        "# run pip freeze to check if fastai is installed\n",
        "\n",
        "# !pip install -U fastai"
      ],
      "execution_count": null,
      "outputs": []
    },
    {
      "cell_type": "code",
      "metadata": {
        "id": "l98GbAyrss4r",
        "outputId": "2d29e6f0-bb05-49bc-9aa5-f38b55b42845",
        "colab": {
          "base_uri": "https://localhost:8080/",
          "height": 350
        }
      },
      "source": [
        "# if you're on Colab, make sure you're using a GPU instance.\n",
        "# Make sure that your GPU supports mixed-precisoin traning (e.g. Tesla T4, P4, P100, V100)\n",
        "!nvidia-smi"
      ],
      "execution_count": 1,
      "outputs": [
        {
          "output_type": "stream",
          "text": [
            "Thu Oct 15 03:45:08 2020       \n",
            "+-----------------------------------------------------------------------------+\n",
            "| NVIDIA-SMI 455.23.05    Driver Version: 418.67       CUDA Version: 10.1     |\n",
            "|-------------------------------+----------------------+----------------------+\n",
            "| GPU  Name        Persistence-M| Bus-Id        Disp.A | Volatile Uncorr. ECC |\n",
            "| Fan  Temp  Perf  Pwr:Usage/Cap|         Memory-Usage | GPU-Util  Compute M. |\n",
            "|                               |                      |               MIG M. |\n",
            "|===============================+======================+======================|\n",
            "|   0  Tesla T4            Off  | 00000000:00:04.0 Off |                    0 |\n",
            "| N/A   64C    P8    11W /  70W |      0MiB / 15079MiB |      0%      Default |\n",
            "|                               |                      |                 ERR! |\n",
            "+-------------------------------+----------------------+----------------------+\n",
            "                                                                               \n",
            "+-----------------------------------------------------------------------------+\n",
            "| Processes:                                                                  |\n",
            "|  GPU   GI   CI        PID   Type   Process name                  GPU Memory |\n",
            "|        ID   ID                                                   Usage      |\n",
            "|=============================================================================|\n",
            "|  No running processes found                                                 |\n",
            "+-----------------------------------------------------------------------------+\n"
          ],
          "name": "stdout"
        }
      ]
    },
    {
      "cell_type": "code",
      "metadata": {
        "id": "jE3Z8nKtWB3R"
      },
      "source": [
        "# if you're on Colab, and what to save files in Google Drive:\n",
        "#from google.colab import drive\n",
        "#drive.mount('/gdrive')\n",
        "#%cd \"/gdrive/My Drive/\""
      ],
      "execution_count": null,
      "outputs": []
    },
    {
      "cell_type": "markdown",
      "metadata": {
        "id": "siecmphg86M0"
      },
      "source": [
        "# Download pre-trained language model"
      ]
    },
    {
      "cell_type": "code",
      "metadata": {
        "id": "hUIZpjkc7wOP"
      },
      "source": [
        "# create 'models' folder\n",
        "!mkdir models\n",
        "\n",
        "# download pre-trained model and language model vocab (size: 432MB)\n",
        "!gdown --id 19jdv8-XEbDNiqlm_lPb1csbVZYkn3gfA\n",
        "\n",
        "# unzip the pre-trained model\n",
        "!unzip pretrained.zip -d models"
      ],
      "execution_count": null,
      "outputs": []
    },
    {
      "cell_type": "code",
      "metadata": {
        "id": "jrJt_BXy9bl3"
      },
      "source": [
        "# Filenames of pre-trained LM weights and vocab\n",
        "# To be passed to text_classifier_learner() later on\n",
        "pretrained_fnames = ['finetuned_weights_20', 'vocab']"
      ],
      "execution_count": 29,
      "outputs": []
    },
    {
      "cell_type": "markdown",
      "metadata": {
        "id": "fC0NYoErYZu0"
      },
      "source": [
        "## Download Text Classification Dataset"
      ]
    },
    {
      "cell_type": "code",
      "metadata": {
        "id": "jgW46ZMPYcqh"
      },
      "source": [
        "!wget https://s3.us-east-2.amazonaws.com/blaisecruz.com/datasets/hatenonhate/hatespeech_raw.zip\n",
        "!unzip hatespeech_raw.zip"
      ],
      "execution_count": null,
      "outputs": []
    },
    {
      "cell_type": "markdown",
      "metadata": {
        "id": "YivYGXqKuBCO"
      },
      "source": [
        "# Before you start...\n",
        "\n",
        "1.  Import dependencies\n",
        "2.  Define convenient functions for later use\n",
        "3.  Load data"
      ]
    },
    {
      "cell_type": "code",
      "metadata": {
        "id": "hJ8NkN3ks09j"
      },
      "source": [
        "from fastai.text.all import *\n",
        "from sklearn.metrics import accuracy_score"
      ],
      "execution_count": 5,
      "outputs": []
    },
    {
      "cell_type": "code",
      "metadata": {
        "id": "-M-m2zJ0u0Eh"
      },
      "source": [
        "# Run this function before creating a learner if you want  \n",
        "# your work to be reproducible\n",
        "\n",
        "# Convenience function for setting the random seed manually\n",
        "def set_random_seed(seed):\n",
        "    # python RNG\n",
        "    import random\n",
        "    random.seed(seed)\n",
        "\n",
        "    # pytorch RNGs\n",
        "    import torch\n",
        "    torch.manual_seed(seed)\n",
        "    torch.backends.cudnn.deterministic = True\n",
        "    if torch.cuda.is_available(): torch.cuda.manual_seed_all(seed)\n",
        "\n",
        "    # numpy RNG\n",
        "    import numpy as np\n",
        "    np.random.seed(seed)"
      ],
      "execution_count": 6,
      "outputs": []
    },
    {
      "cell_type": "code",
      "metadata": {
        "id": "k6X9FthozhBj"
      },
      "source": [
        "# Convenience function for testing model on test set\n",
        "def get_test_acc(learn):\n",
        "    # Create dataloader for test set\n",
        "    test_dl = learn.dls.test_dl(test_df, with_label=True)\n",
        "    # Make predictions on test set\n",
        "    pred_probas, _ , pred_classes = learn.get_preds(dl=test_dl, with_decoded=True) \n",
        "    # get accuracy of (y_true, y_pred)\n",
        "    return accuracy_score(test_df.label.values, pred_classes)"
      ],
      "execution_count": 7,
      "outputs": []
    },
    {
      "cell_type": "code",
      "metadata": {
        "id": "eLDggOHht90q"
      },
      "source": [
        "# Modify this to match your data directory\n",
        "train_df = pd.read_csv(\"hatespeech/train.csv\", lineterminator='\\n')\n",
        "valid_df = pd.read_csv(\"hatespeech/valid.csv\", lineterminator='\\n')\n",
        "test_df = pd.read_csv(\"hatespeech/test.csv\", lineterminator='\\n')"
      ],
      "execution_count": 31,
      "outputs": []
    },
    {
      "cell_type": "code",
      "metadata": {
        "id": "6IIPPtSeuiIl"
      },
      "source": [
        "# add 'is_valid' column (for fastai train-val splitting)\n",
        "valid_df['is_valid'] = True\n",
        "test_df['is_valid'] = False\n",
        "train_df['is_valid'] = False"
      ],
      "execution_count": 32,
      "outputs": []
    },
    {
      "cell_type": "code",
      "metadata": {
        "id": "iekJzpy3YtSc",
        "outputId": "4a4ae2e9-0c3a-461e-9503-a2c85ec7033f",
        "colab": {
          "base_uri": "https://localhost:8080/",
          "height": 197
        }
      },
      "source": [
        "# label: hate = 1, non-hate = 0\n",
        "train_df.head()"
      ],
      "execution_count": 33,
      "outputs": [
        {
          "output_type": "execute_result",
          "data": {
            "text/html": [
              "<div>\n",
              "<style scoped>\n",
              "    .dataframe tbody tr th:only-of-type {\n",
              "        vertical-align: middle;\n",
              "    }\n",
              "\n",
              "    .dataframe tbody tr th {\n",
              "        vertical-align: top;\n",
              "    }\n",
              "\n",
              "    .dataframe thead th {\n",
              "        text-align: right;\n",
              "    }\n",
              "</style>\n",
              "<table border=\"1\" class=\"dataframe\">\n",
              "  <thead>\n",
              "    <tr style=\"text-align: right;\">\n",
              "      <th></th>\n",
              "      <th>text</th>\n",
              "      <th>label</th>\n",
              "      <th>is_valid</th>\n",
              "    </tr>\n",
              "  </thead>\n",
              "  <tbody>\n",
              "    <tr>\n",
              "      <th>0</th>\n",
              "      <td>GASTOS NI VP BINAY SA POLITICAL ADS HALOS P7-M NA\\r\\rInaasahan na ni Vice President Jejomar Binay na may mga taong... https://t.co/SDytgbWiLh</td>\n",
              "      <td>0</td>\n",
              "      <td>False</td>\n",
              "    </tr>\n",
              "    <tr>\n",
              "      <th>1</th>\n",
              "      <td>Mar Roxas TANG INA TUWID NA DAAN DAW .. EH SYA NGA DI STRAIGHT</td>\n",
              "      <td>1</td>\n",
              "      <td>False</td>\n",
              "    </tr>\n",
              "    <tr>\n",
              "      <th>2</th>\n",
              "      <td>Salamat sa walang sawang suporta ng mga taga makati! Ang Pagbabalik Binay In Makati #OnlyBinayInMakatiSanKaPa https://t.co/iwAOdtZPRE</td>\n",
              "      <td>0</td>\n",
              "      <td>False</td>\n",
              "    </tr>\n",
              "    <tr>\n",
              "      <th>3</th>\n",
              "      <td>@rapplerdotcom putangina mo binay TAKBO PA</td>\n",
              "      <td>1</td>\n",
              "      <td>False</td>\n",
              "    </tr>\n",
              "    <tr>\n",
              "      <th>4</th>\n",
              "      <td>Binay with selective amnesia, forgetting about the past six years he spent preparing to be president.  #PiliPinasDebates2016</td>\n",
              "      <td>0</td>\n",
              "      <td>False</td>\n",
              "    </tr>\n",
              "  </tbody>\n",
              "</table>\n",
              "</div>"
            ],
            "text/plain": [
              "                                                                                                                                            text  ...  is_valid\n",
              "0  GASTOS NI VP BINAY SA POLITICAL ADS HALOS P7-M NA\\r\\rInaasahan na ni Vice President Jejomar Binay na may mga taong... https://t.co/SDytgbWiLh  ...     False\n",
              "1                                                                                 Mar Roxas TANG INA TUWID NA DAAN DAW .. EH SYA NGA DI STRAIGHT  ...     False\n",
              "2          Salamat sa walang sawang suporta ng mga taga makati! Ang Pagbabalik Binay In Makati #OnlyBinayInMakatiSanKaPa https://t.co/iwAOdtZPRE  ...     False\n",
              "3                                                                                                     @rapplerdotcom putangina mo binay TAKBO PA  ...     False\n",
              "4                   Binay with selective amnesia, forgetting about the past six years he spent preparing to be president.  #PiliPinasDebates2016  ...     False\n",
              "\n",
              "[5 rows x 3 columns]"
            ]
          },
          "metadata": {
            "tags": []
          },
          "execution_count": 33
        }
      ]
    },
    {
      "cell_type": "markdown",
      "metadata": {
        "id": "Xeq8PeNSvU_2"
      },
      "source": [
        "# Language Model Fine-tuning\n",
        "\n",
        "Here, we fine-tune the pre-trained language model to better learn the vocab and syntax of the target corpus which is, in our case, the Hate Speech Dataset.\n",
        "\n",
        "**About the pre-trained language model files:**\n",
        "\n",
        "By default, fastai looks for models inside the 'models' folder. Make sure that the pre-trained models and vocab are in 'models' folder."
      ]
    },
    {
      "cell_type": "code",
      "metadata": {
        "id": "dqGHYfF4ZSIy",
        "outputId": "64e3b1eb-862e-434d-87e7-ea7b16b8a833",
        "colab": {
          "base_uri": "https://localhost:8080/",
          "height": 33
        }
      },
      "source": [
        "# Concatenate train, validation, and test set for LM fine-tuning\n",
        "# Language modelling task doesn't need labels so it's safe to use the test set\n",
        "lm_df_10k =  pd.concat([train_df, valid_df, test_df])\n",
        "lm_df_10k.shape"
      ],
      "execution_count": 17,
      "outputs": [
        {
          "output_type": "execute_result",
          "data": {
            "text/plain": [
              "(18464, 3)"
            ]
          },
          "metadata": {
            "tags": []
          },
          "execution_count": 17
        }
      ]
    },
    {
      "cell_type": "code",
      "metadata": {
        "id": "jVQCKuYNvWIE",
        "outputId": "083a8fde-a82f-4672-f97e-3b4b5247d72a",
        "colab": {
          "base_uri": "https://localhost:8080/",
          "height": 16
        }
      },
      "source": [
        "# Create a dataloader for language model fine-tuning\n",
        "# ColSplitter() splits the dataframe by 'is_valid' column\n",
        "dls_lm = DataBlock(blocks=TextBlock.from_df('text', is_lm=True),\n",
        "                    get_x=ColReader('text'),\n",
        "                    splitter=ColSplitter()).dataloaders(lm_df_10k, bs=128, seq_len=72, min_freq=2, num_workers=0)"
      ],
      "execution_count": 18,
      "outputs": [
        {
          "output_type": "display_data",
          "data": {
            "text/html": [
              ""
            ],
            "text/plain": [
              "<IPython.core.display.HTML object>"
            ]
          },
          "metadata": {
            "tags": []
          }
        }
      ]
    },
    {
      "cell_type": "code",
      "metadata": {
        "id": "IVtS9TNez9mg"
      },
      "source": [
        "# Uncomment this if you want early stopping and save your best model.\n",
        "# This is fastai callbacks, see docs for more info\n",
        "cbs = [EarlyStoppingCallback(monitor='valid_loss', patience=2), SaveModelCallback()]\n",
        "\n",
        "# Notice the pretrained_fnames parameter.\n",
        "# Here we pass the list of filenames of pretrained weights and vocab.pkl\n",
        "# This is where the use of pre-trained language model happens.\n",
        "learn = language_model_learner(\n",
        "    dls_lm, AWD_LSTM, drop_mult=0.5, \n",
        "    metrics=[accuracy, Perplexity()],\n",
        "    pretrained_fnames=pretrained_fnames, cbs=cbs).to_fp16()"
      ],
      "execution_count": 63,
      "outputs": []
    },
    {
      "cell_type": "code",
      "metadata": {
        "id": "L92DgUuv0S3Q",
        "outputId": "88daf27e-e521-4758-d7c7-5959f63749f4",
        "colab": {
          "base_uri": "https://localhost:8080/",
          "height": 302
        }
      },
      "source": [
        "# Learning rate finder\n",
        "learn.lr_find()"
      ],
      "execution_count": 64,
      "outputs": [
        {
          "output_type": "display_data",
          "data": {
            "text/html": [
              ""
            ],
            "text/plain": [
              "<IPython.core.display.HTML object>"
            ]
          },
          "metadata": {
            "tags": []
          }
        },
        {
          "output_type": "execute_result",
          "data": {
            "text/plain": [
              "SuggestedLRs(lr_min=0.19054607152938843, lr_steep=0.0831763744354248)"
            ]
          },
          "metadata": {
            "tags": []
          },
          "execution_count": 64
        },
        {
          "output_type": "display_data",
          "data": {
            "image/png": "[encoded data removed]",
            "text/plain": [
              "<Figure size 432x288 with 1 Axes>"
            ]
          },
          "metadata": {
            "tags": [],
            "needs_background": "light"
          }
        }
      ]
    },
    {
      "cell_type": "code",
      "metadata": {
        "id": "4Rihr5Xw0TQB",
        "outputId": "e0f1e58f-7422-469f-b8e8-a121e250acd4",
        "colab": {
          "base_uri": "https://localhost:8080/",
          "height": 94
        }
      },
      "source": [
        "# train last layers first\n",
        "learn.fit_one_cycle(1, 4e-2)"
      ],
      "execution_count": 65,
      "outputs": [
        {
          "output_type": "display_data",
          "data": {
            "text/html": [
              "<table border=\"1\" class=\"dataframe\">\n",
              "  <thead>\n",
              "    <tr style=\"text-align: left;\">\n",
              "      <th>epoch</th>\n",
              "      <th>train_loss</th>\n",
              "      <th>valid_loss</th>\n",
              "      <th>accuracy</th>\n",
              "      <th>perplexity</th>\n",
              "      <th>time</th>\n",
              "    </tr>\n",
              "  </thead>\n",
              "  <tbody>\n",
              "    <tr>\n",
              "      <td>0</td>\n",
              "      <td>4.713461</td>\n",
              "      <td>4.021697</td>\n",
              "      <td>0.327076</td>\n",
              "      <td>55.795715</td>\n",
              "      <td>00:20</td>\n",
              "    </tr>\n",
              "  </tbody>\n",
              "</table>"
            ],
            "text/plain": [
              "<IPython.core.display.HTML object>"
            ]
          },
          "metadata": {
            "tags": []
          }
        },
        {
          "output_type": "stream",
          "text": [
            "Better model found at epoch 0 with valid_loss value: 4.021697044372559.\n"
          ],
          "name": "stdout"
        }
      ]
    },
    {
      "cell_type": "code",
      "metadata": {
        "id": "J7hXL_FL0Xht",
        "outputId": "84015cde-1459-4ee1-9133-31f75c7cc1e7",
        "colab": {
          "base_uri": "https://localhost:8080/",
          "height": 404
        }
      },
      "source": [
        "# train the whole network with a smaller learning rate\n",
        "learn.unfreeze()\n",
        "learn.fit_one_cycle(8, 4e-3)"
      ],
      "execution_count": 66,
      "outputs": [
        {
          "output_type": "display_data",
          "data": {
            "text/html": [
              "<table border=\"1\" class=\"dataframe\">\n",
              "  <thead>\n",
              "    <tr style=\"text-align: left;\">\n",
              "      <th>epoch</th>\n",
              "      <th>train_loss</th>\n",
              "      <th>valid_loss</th>\n",
              "      <th>accuracy</th>\n",
              "      <th>perplexity</th>\n",
              "      <th>time</th>\n",
              "    </tr>\n",
              "  </thead>\n",
              "  <tbody>\n",
              "    <tr>\n",
              "      <td>0</td>\n",
              "      <td>3.942059</td>\n",
              "      <td>3.778240</td>\n",
              "      <td>0.353193</td>\n",
              "      <td>43.738991</td>\n",
              "      <td>00:21</td>\n",
              "    </tr>\n",
              "    <tr>\n",
              "      <td>1</td>\n",
              "      <td>3.783178</td>\n",
              "      <td>3.586052</td>\n",
              "      <td>0.377635</td>\n",
              "      <td>36.091293</td>\n",
              "      <td>00:20</td>\n",
              "    </tr>\n",
              "    <tr>\n",
              "      <td>2</td>\n",
              "      <td>3.586731</td>\n",
              "      <td>3.460168</td>\n",
              "      <td>0.392891</td>\n",
              "      <td>31.822311</td>\n",
              "      <td>00:20</td>\n",
              "    </tr>\n",
              "    <tr>\n",
              "      <td>3</td>\n",
              "      <td>3.407196</td>\n",
              "      <td>3.393142</td>\n",
              "      <td>0.403265</td>\n",
              "      <td>29.759310</td>\n",
              "      <td>00:20</td>\n",
              "    </tr>\n",
              "    <tr>\n",
              "      <td>4</td>\n",
              "      <td>3.252400</td>\n",
              "      <td>3.363641</td>\n",
              "      <td>0.408120</td>\n",
              "      <td>28.894197</td>\n",
              "      <td>00:20</td>\n",
              "    </tr>\n",
              "    <tr>\n",
              "      <td>5</td>\n",
              "      <td>3.113715</td>\n",
              "      <td>3.356634</td>\n",
              "      <td>0.411461</td>\n",
              "      <td>28.692461</td>\n",
              "      <td>00:21</td>\n",
              "    </tr>\n",
              "    <tr>\n",
              "      <td>6</td>\n",
              "      <td>3.002027</td>\n",
              "      <td>3.357580</td>\n",
              "      <td>0.412802</td>\n",
              "      <td>28.719618</td>\n",
              "      <td>00:20</td>\n",
              "    </tr>\n",
              "    <tr>\n",
              "      <td>7</td>\n",
              "      <td>2.932654</td>\n",
              "      <td>3.361399</td>\n",
              "      <td>0.412839</td>\n",
              "      <td>28.829493</td>\n",
              "      <td>00:20</td>\n",
              "    </tr>\n",
              "  </tbody>\n",
              "</table>"
            ],
            "text/plain": [
              "<IPython.core.display.HTML object>"
            ]
          },
          "metadata": {
            "tags": []
          }
        },
        {
          "output_type": "stream",
          "text": [
            "Better model found at epoch 0 with valid_loss value: 3.7782399654388428.\n",
            "Better model found at epoch 1 with valid_loss value: 3.5860517024993896.\n",
            "Better model found at epoch 2 with valid_loss value: 3.460167646408081.\n",
            "Better model found at epoch 3 with valid_loss value: 3.393141984939575.\n",
            "Better model found at epoch 4 with valid_loss value: 3.363640785217285.\n",
            "Better model found at epoch 5 with valid_loss value: 3.3566343784332275.\n",
            "No improvement since epoch 5: early stopping\n"
          ],
          "name": "stdout"
        }
      ]
    },
    {
      "cell_type": "code",
      "metadata": {
        "id": "oTSmWpKrz3Xq"
      },
      "source": [
        "# Save encoder. To be used by text classifier learner.\n",
        "learn.save_encoder('lm_finetune_final_enc')"
      ],
      "execution_count": 67,
      "outputs": []
    },
    {
      "cell_type": "code",
      "metadata": {
        "id": "txS6EOJW0m3V",
        "outputId": "3290c1b3-4e2e-42a6-84c9-6dbe81a56e6b",
        "colab": {
          "base_uri": "https://localhost:8080/",
          "height": 50
        }
      },
      "source": [
        "# This is totally unrelated to training process but just for fun...\n",
        "# you can try generating text with the language model here\n",
        "TEXT = \"Ako ay\"\n",
        "N_WORDS = 40\n",
        "N_SENTENCES = 2\n",
        "preds = [learn.predict(TEXT, N_WORDS, temperature=0.75) \n",
        "         for _ in range(N_SENTENCES)]\n",
        "\n",
        "print(\"\\n\".join(preds))"
      ],
      "execution_count": 40,
      "outputs": [
        {
          "output_type": "display_data",
          "data": {
            "text/html": [
              ""
            ],
            "text/plain": [
              "<IPython.core.display.HTML object>"
            ]
          },
          "metadata": {
            "tags": []
          }
        },
        {
          "output_type": "display_data",
          "data": {
            "text/html": [
              ""
            ],
            "text/plain": [
              "<IPython.core.display.HTML object>"
            ]
          },
          "metadata": {
            "tags": []
          }
        },
        {
          "output_type": "stream",
          "text": [
            "Ako ay si Binay ? Maganda pa yung mga ginagawa ni Binay . \" Binay Ad Nog Nog ? ? Mahirap ka Binay ! # wantedpresident Duterte ,\n",
            "Ako ay isang \" pandak \" sa Makati . Ang nognog yun ? Wtf ? ? Knya suportado ng mga mar roxas sa Marawi Lanao del Sur … Hahahaha Mar Roxas\n"
          ],
          "name": "stdout"
        }
      ]
    },
    {
      "cell_type": "markdown",
      "metadata": {
        "id": "swgJLIMAwOkJ"
      },
      "source": [
        "# Text Classifier Fine-tuning\n",
        "\n",
        "Here, we use the encoder of the fine-tuned language model to transfer the learnings to the classifier model. The model will learn to classify the text to binary labels, hate (1) or non-hate (0).\n",
        "\n",
        "Here, we'll apply gradual unfreezing and discriminative learning rates as discussed by [(Howard and Ruder, 2018)](https://arxiv.org/abs/1801.06146)."
      ]
    },
    {
      "cell_type": "code",
      "metadata": {
        "id": "KzAQlUWX9YRs"
      },
      "source": [
        "# HYPERPARAMETERS\n",
        "lr = 5e-2\n",
        "wd = 0.1\n",
        "moms = (0.8,0.7,0.6)"
      ],
      "execution_count": 41,
      "outputs": []
    },
    {
      "cell_type": "code",
      "metadata": {
        "id": "Mrhb-WiQauZL",
        "outputId": "a73057d2-f1b8-4e9b-c965-84d17a08afac",
        "colab": {
          "base_uri": "https://localhost:8080/",
          "height": 33
        }
      },
      "source": [
        "# Exclude the test set\n",
        "clas_df_10k = pd.concat([train_df, valid_df])\n",
        "clas_df_10k.shape # 10k + valid set"
      ],
      "execution_count": 52,
      "outputs": [
        {
          "output_type": "execute_result",
          "data": {
            "text/plain": [
              "(14232, 3)"
            ]
          },
          "metadata": {
            "tags": []
          },
          "execution_count": 52
        }
      ]
    },
    {
      "cell_type": "code",
      "metadata": {
        "id": "f9ufQ2u6wQmP",
        "outputId": "36cfd16e-f74f-4c97-84dc-fd405549b212",
        "colab": {
          "base_uri": "https://localhost:8080/",
          "height": 16
        }
      },
      "source": [
        "# Create a dataloader for text classifier fine-tuning\n",
        "dls_clas = DataBlock(blocks=(TextBlock.from_df('text', seq_len=72, min_freq=2, vocab=dls_lm.vocab), CategoryBlock),\n",
        "                      get_x=ColReader('text'),\n",
        "                      get_y=ColReader('label'),\n",
        "                      splitter=ColSplitter()\n",
        "                      ).dataloaders(clas_df_10k, bs=128, num_workers=0)"
      ],
      "execution_count": 53,
      "outputs": [
        {
          "output_type": "display_data",
          "data": {
            "text/html": [
              ""
            ],
            "text/plain": [
              "<IPython.core.display.HTML object>"
            ]
          },
          "metadata": {
            "tags": []
          }
        }
      ]
    },
    {
      "cell_type": "code",
      "metadata": {
        "id": "CrGXu5ova6dw"
      },
      "source": [
        "# Set random seed manually for reproducibility\n",
        "set_random_seed(2014614837)"
      ],
      "execution_count": 68,
      "outputs": []
    },
    {
      "cell_type": "code",
      "metadata": {
        "id": "mUmhI3xZx0jH",
        "outputId": "dfa5952a-6e3e-45a5-a9c6-6d9a2be12e3c",
        "colab": {
          "base_uri": "https://localhost:8080/",
          "height": 33
        }
      },
      "source": [
        "# Create learner\n",
        "learn = text_classifier_learner(dls_clas, AWD_LSTM, moms=moms, wd=wd, metrics=accuracy).to_fp16()\n",
        "\n",
        "# Load encoder of fine-tuned language model\n",
        "learn.load_encoder('lm_finetune_final_enc')"
      ],
      "execution_count": 69,
      "outputs": [
        {
          "output_type": "execute_result",
          "data": {
            "text/plain": [
              "<fastai.text.learner.TextLearner at 0x7f0a5544bd30>"
            ]
          },
          "metadata": {
            "tags": []
          },
          "execution_count": 69
        }
      ]
    },
    {
      "cell_type": "code",
      "metadata": {
        "id": "mP1vrjb3yrDf",
        "outputId": "be90f299-dff9-4882-c9ec-083512732507",
        "colab": {
          "base_uri": "https://localhost:8080/",
          "height": 167
        }
      },
      "source": [
        "# Train the last layers\n",
        "learn.fit_one_cycle(4, lr) "
      ],
      "execution_count": 70,
      "outputs": [
        {
          "output_type": "display_data",
          "data": {
            "text/html": [
              "<table border=\"1\" class=\"dataframe\">\n",
              "  <thead>\n",
              "    <tr style=\"text-align: left;\">\n",
              "      <th>epoch</th>\n",
              "      <th>train_loss</th>\n",
              "      <th>valid_loss</th>\n",
              "      <th>accuracy</th>\n",
              "      <th>time</th>\n",
              "    </tr>\n",
              "  </thead>\n",
              "  <tbody>\n",
              "    <tr>\n",
              "      <td>0</td>\n",
              "      <td>0.696004</td>\n",
              "      <td>0.557743</td>\n",
              "      <td>0.708412</td>\n",
              "      <td>00:19</td>\n",
              "    </tr>\n",
              "    <tr>\n",
              "      <td>1</td>\n",
              "      <td>0.672074</td>\n",
              "      <td>0.521690</td>\n",
              "      <td>0.733459</td>\n",
              "      <td>00:19</td>\n",
              "    </tr>\n",
              "    <tr>\n",
              "      <td>2</td>\n",
              "      <td>0.654777</td>\n",
              "      <td>0.543808</td>\n",
              "      <td>0.701796</td>\n",
              "      <td>00:19</td>\n",
              "    </tr>\n",
              "    <tr>\n",
              "      <td>3</td>\n",
              "      <td>0.636296</td>\n",
              "      <td>0.513312</td>\n",
              "      <td>0.737004</td>\n",
              "      <td>00:19</td>\n",
              "    </tr>\n",
              "  </tbody>\n",
              "</table>"
            ],
            "text/plain": [
              "<IPython.core.display.HTML object>"
            ]
          },
          "metadata": {
            "tags": []
          }
        }
      ]
    },
    {
      "cell_type": "code",
      "metadata": {
        "id": "iD2eS4EGzM8D",
        "outputId": "aca05486-5f7c-4b39-9dd5-e4ab91f4f7ef",
        "colab": {
          "base_uri": "https://localhost:8080/",
          "height": 107
        }
      },
      "source": [
        "# Unfreeze a little bit\n",
        "learn.freeze_to(-2)\n",
        "\n",
        "# Decrease the learning rate\n",
        "learn.fit_one_cycle(2, slice(lr/(2.6**4),lr)) "
      ],
      "execution_count": 71,
      "outputs": [
        {
          "output_type": "display_data",
          "data": {
            "text/html": [
              "<table border=\"1\" class=\"dataframe\">\n",
              "  <thead>\n",
              "    <tr style=\"text-align: left;\">\n",
              "      <th>epoch</th>\n",
              "      <th>train_loss</th>\n",
              "      <th>valid_loss</th>\n",
              "      <th>accuracy</th>\n",
              "      <th>time</th>\n",
              "    </tr>\n",
              "  </thead>\n",
              "  <tbody>\n",
              "    <tr>\n",
              "      <td>0</td>\n",
              "      <td>0.603289</td>\n",
              "      <td>0.529903</td>\n",
              "      <td>0.721881</td>\n",
              "      <td>00:20</td>\n",
              "    </tr>\n",
              "    <tr>\n",
              "      <td>1</td>\n",
              "      <td>0.541825</td>\n",
              "      <td>0.498178</td>\n",
              "      <td>0.745983</td>\n",
              "      <td>00:20</td>\n",
              "    </tr>\n",
              "  </tbody>\n",
              "</table>"
            ],
            "text/plain": [
              "<IPython.core.display.HTML object>"
            ]
          },
          "metadata": {
            "tags": []
          }
        }
      ]
    },
    {
      "cell_type": "code",
      "metadata": {
        "id": "SX46acsmzPNA",
        "outputId": "dbee2e9b-2c42-41e5-db21-9e65a15a3917",
        "colab": {
          "base_uri": "https://localhost:8080/",
          "height": 107
        }
      },
      "source": [
        "# Unfreeze a little bit more\n",
        "learn.freeze_to(-3)\n",
        "\n",
        "# Decrease the learning rate more\n",
        "learn.fit_one_cycle(2, slice(lr/2/(2.6**4),lr/2)) "
      ],
      "execution_count": 72,
      "outputs": [
        {
          "output_type": "display_data",
          "data": {
            "text/html": [
              "<table border=\"1\" class=\"dataframe\">\n",
              "  <thead>\n",
              "    <tr style=\"text-align: left;\">\n",
              "      <th>epoch</th>\n",
              "      <th>train_loss</th>\n",
              "      <th>valid_loss</th>\n",
              "      <th>accuracy</th>\n",
              "      <th>time</th>\n",
              "    </tr>\n",
              "  </thead>\n",
              "  <tbody>\n",
              "    <tr>\n",
              "      <td>0</td>\n",
              "      <td>0.520084</td>\n",
              "      <td>0.484902</td>\n",
              "      <td>0.757089</td>\n",
              "      <td>00:21</td>\n",
              "    </tr>\n",
              "    <tr>\n",
              "      <td>1</td>\n",
              "      <td>0.450389</td>\n",
              "      <td>0.478982</td>\n",
              "      <td>0.770085</td>\n",
              "      <td>00:21</td>\n",
              "    </tr>\n",
              "  </tbody>\n",
              "</table>"
            ],
            "text/plain": [
              "<IPython.core.display.HTML object>"
            ]
          },
          "metadata": {
            "tags": []
          }
        }
      ]
    },
    {
      "cell_type": "code",
      "metadata": {
        "id": "JlZeBs_TzSof",
        "outputId": "80b6aa82-52c0-460d-dcf2-fd02a0cc25a2",
        "colab": {
          "base_uri": "https://localhost:8080/",
          "height": 77
        }
      },
      "source": [
        "# Unfreeze the whole network\n",
        "learn.unfreeze()\n",
        "\n",
        "# Train the whole network with really small learning rate\n",
        "learn.fit_one_cycle(1, slice(lr/10/(2.6**4),lr/10)) "
      ],
      "execution_count": 73,
      "outputs": [
        {
          "output_type": "display_data",
          "data": {
            "text/html": [
              "<table border=\"1\" class=\"dataframe\">\n",
              "  <thead>\n",
              "    <tr style=\"text-align: left;\">\n",
              "      <th>epoch</th>\n",
              "      <th>train_loss</th>\n",
              "      <th>valid_loss</th>\n",
              "      <th>accuracy</th>\n",
              "      <th>time</th>\n",
              "    </tr>\n",
              "  </thead>\n",
              "  <tbody>\n",
              "    <tr>\n",
              "      <td>0</td>\n",
              "      <td>0.381500</td>\n",
              "      <td>0.492208</td>\n",
              "      <td>0.769376</td>\n",
              "      <td>00:22</td>\n",
              "    </tr>\n",
              "  </tbody>\n",
              "</table>"
            ],
            "text/plain": [
              "<IPython.core.display.HTML object>"
            ]
          },
          "metadata": {
            "tags": []
          }
        }
      ]
    },
    {
      "cell_type": "code",
      "metadata": {
        "id": "y_pxmGaCzcFh",
        "outputId": "2623d682-20e7-4eb0-d1f5-b449f5f5e184",
        "colab": {
          "base_uri": "https://localhost:8080/",
          "height": 33
        }
      },
      "source": [
        "# Get accuracy with test set\n",
        "acc = get_test_acc(learn)\n",
        "acc"
      ],
      "execution_count": 74,
      "outputs": [
        {
          "output_type": "display_data",
          "data": {
            "text/html": [
              ""
            ],
            "text/plain": [
              "<IPython.core.display.HTML object>"
            ]
          },
          "metadata": {
            "tags": []
          }
        },
        {
          "output_type": "execute_result",
          "data": {
            "text/plain": [
              "0.7573251417769377"
            ]
          },
          "metadata": {
            "tags": []
          },
          "execution_count": 74
        }
      ]
    },
    {
      "cell_type": "markdown",
      "metadata": {
        "id": "OBZ6e8hxmMlk"
      },
      "source": [
        "Even though the purpose of this notebook is to show you how to use the pre-trained model in text classification tasks, it's worth noting that there's a slight discrepancy in reported accuracy and the accuracy printed in this notebook. In this notebook, we didn't use the same exact encoder which explains the slight difference in results. In this case, seeds used to initialize the model plays a small role in the accuracy. The accuracy ranges from 75 to 76.9% with different seeds."
      ]
    }
  ]
}